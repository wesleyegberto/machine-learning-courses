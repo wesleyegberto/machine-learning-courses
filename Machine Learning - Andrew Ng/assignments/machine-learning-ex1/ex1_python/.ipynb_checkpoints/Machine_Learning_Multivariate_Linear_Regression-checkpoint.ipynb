{
 "cells": [
  {
   "cell_type": "markdown",
   "metadata": {},
   "source": [
    "# Machine Learning using Multivariate Linear Regression\n",
    "\n",
    "Estimating the profit from a city basing on its population size."
   ]
  },
  {
   "cell_type": "code",
   "execution_count": 1,
   "metadata": {},
   "outputs": [],
   "source": [
    "import pandas as pd\n",
    "# import pandas_profiling\n",
    "import numpy as np\n",
    "import seaborn as sns\n",
    "import matplotlib.pyplot as plt\n",
    "from pylab import meshgrid, cm\n",
    "from mpl_toolkits.mplot3d import axes3d, Axes3D\n",
    "from matplotlib.ticker import LinearLocator, FormatStrFormatter\n",
    "\n",
    "sns.set(style=\"whitegrid\")"
   ]
  },
  {
   "cell_type": "code",
   "execution_count": 2,
   "metadata": {},
   "outputs": [
    {
     "name": "stdout",
     "output_type": "stream",
     "text": [
      "Plotting Data ...\n",
      "\n",
      "     size  qty_bedrooms     price\n",
      "0  2104.0           3.0  399900.0\n",
      "1  1600.0           3.0  329900.0\n",
      "2  2400.0           3.0  369000.0\n",
      "3  1416.0           2.0  232000.0\n",
      "4  3000.0           4.0  539900.0\n"
     ]
    }
   ],
   "source": [
    "print('Plotting Data ...\\n')\n",
    "data = pd.read_csv('ex1data2.txt', names = ['size', 'qty_bedrooms', 'price'])\n",
    "data = data.astype('float64')\n",
    "print(data.head())"
   ]
  },
  {
   "cell_type": "code",
   "execution_count": 3,
   "metadata": {},
   "outputs": [
    {
     "name": "stdout",
     "output_type": "stream",
     "text": [
      "Profiling Data\n",
      "<class 'pandas.core.frame.DataFrame'>\n",
      "RangeIndex: 47 entries, 0 to 46\n",
      "Data columns (total 3 columns):\n",
      "size            47 non-null float64\n",
      "qty_bedrooms    47 non-null float64\n",
      "price           47 non-null float64\n",
      "dtypes: float64(3)\n",
      "memory usage: 1.2 KB\n"
     ]
    }
   ],
   "source": [
    "print('Profiling Data')\n",
    "data.info()\n",
    "# pandas_profiling.ProfileReport(data)"
   ]
  },
  {
   "cell_type": "code",
   "execution_count": 4,
   "metadata": {},
   "outputs": [],
   "source": [
    "x = np.array(data[['size', 'qty_bedrooms']]) # training set\n",
    "y = data['price'] # labels\n",
    "m = len(y) # training size"
   ]
  },
  {
   "cell_type": "code",
   "execution_count": 5,
   "metadata": {},
   "outputs": [],
   "source": [
    "\"\"\"\n",
    "Normalizes the features in X \n",
    "returns a normalized version of X where the mean value of each feature is 0 and the standard deviation is 1.\n",
    "This is often a good preprocessing step to do when working with learning algorithms.\n",
    "\n",
    "First, for each feature dimension, compute the mean of the feature and subtract it from the dataset,\n",
    "storing the mean value in mu. Next, compute the  standard deviation of each feature and divide\n",
    "each feature by it's standard deviation, storing the standard deviation in sigma.\n",
    "\"\"\"\n",
    "def featureNormalize(X):\n",
    "    X_norm = np.zeros(np.shape(X))\n",
    "    qty_features = np.shape(X)[1]\n",
    "    mu = np.zeros(qty_features)\n",
    "    sigma = np.zeros(qty_features)\n",
    "    \n",
    "    for i in range(qty_features):\n",
    "        mu[i] = np.mean(X[:,i])\n",
    "        X_norm[:,i] = X[:,i] - mu[i]\n",
    "        \n",
    "        # by default np.std calculate the population std, here we want sample std (as done in Octave)\n",
    "        sigma[i] = np.std(X_norm[:,i], ddof=1) # default: ddof=0 (N - 0) will predict 293092.21273075533\n",
    "        X_norm[:,i] = X_norm[:,i] / sigma[i]\n",
    "    return X_norm, mu, sigma"
   ]
  },
  {
   "cell_type": "code",
   "execution_count": 6,
   "metadata": {},
   "outputs": [
    {
     "name": "stdout",
     "output_type": "stream",
     "text": [
      "X Norm [[ 0.          0.        ]\n",
      " [-0.79249985  0.        ]\n",
      " [ 0.46543642  0.        ]\n",
      " [-1.0818252  -1.41421356]\n",
      " [ 1.40888863  1.41421356]]\n",
      "mu [2104.    3.]\n",
      "sigma [635.96226303   0.70710678]\n"
     ]
    }
   ],
   "source": [
    "# Tessting Feature Normalization\n",
    "X_ = np.array([\n",
    "    [2104, 3],\n",
    "    [1600, 3],\n",
    "    [2400, 3],\n",
    "    [1416, 2],\n",
    "    [3000, 4]\n",
    "])\n",
    "X_n, mu_, sigma_ = featureNormalize(X_)\n",
    "print(\"X Norm\", X_n)\n",
    "print(\"mu\", mu_) # [2104.    3.]\n",
    "print(\"sigma\", sigma_) # [635.96226303   0.70710678]"
   ]
  },
  {
   "cell_type": "code",
   "execution_count": 7,
   "metadata": {},
   "outputs": [
    {
     "name": "stdout",
     "output_type": "stream",
     "text": [
      "Normalizing Features ...\n",
      "\n",
      "Normalized data\n"
     ]
    },
    {
     "data": {
      "text/plain": [
       "array([[ 0.13000987, -0.22367519],\n",
       "       [-0.50418984, -0.22367519],\n",
       "       [ 0.50247636, -0.22367519],\n",
       "       [-0.73572306, -1.53776691],\n",
       "       [ 1.25747602,  1.09041654]])"
      ]
     },
     "execution_count": 7,
     "metadata": {},
     "output_type": "execute_result"
    }
   ],
   "source": [
    "# Scale features and set them to zero mean\n",
    "print('Normalizing Features ...\\n')\n",
    "\n",
    "X, mu, sigma = featureNormalize(x)\n",
    "\n",
    "print('Normalized data')\n",
    "X[:5]"
   ]
  },
  {
   "cell_type": "markdown",
   "metadata": {},
   "source": [
    "Add a column of ones to X to facilitate the manipulation.\n",
    "\n",
    "Each row is a input with the following format:\n",
    "\n",
    "$X[0] = [ x_0, x_1, x_2 ]$ where $x_0 = 1$"
   ]
  },
  {
   "cell_type": "code",
   "execution_count": 8,
   "metadata": {},
   "outputs": [
    {
     "data": {
      "text/plain": [
       "array([[ 1.        ,  0.13000987, -0.22367519],\n",
       "       [ 1.        , -0.50418984, -0.22367519],\n",
       "       [ 1.        ,  0.50247636, -0.22367519],\n",
       "       [ 1.        , -0.73572306, -1.53776691],\n",
       "       [ 1.        ,  1.25747602,  1.09041654]])"
      ]
     },
     "execution_count": 8,
     "metadata": {},
     "output_type": "execute_result"
    }
   ],
   "source": [
    "# Add a column of ones to X to facilitate the manipulation\n",
    "X = np.column_stack((np.ones(m), X))\n",
    "X[:5]"
   ]
  },
  {
   "cell_type": "markdown",
   "metadata": {},
   "source": [
    "## ================ Part 2: Gradient Descent ================"
   ]
  },
  {
   "cell_type": "markdown",
   "metadata": {},
   "source": [
    "### Hypothesis Function\n",
    "Function that defines our linear model.\n",
    "\n",
    "Definition:\n",
    "\n",
    "$h_\\theta(x) = \\theta_0 + \\theta_1 * x_1 + \\theta_2 * x_2$\n",
    "\n",
    "Vectorial form:\n",
    "\n",
    "$h_\\theta(x) = \\theta^{T} * x$\n",
    "\n",
    "where:\n",
    "$x = [x_0, x_1, x_2]$; $x_0 = 1$ and $\\theta = [\\theta_0, \\theta_1, \\theta_2]$"
   ]
  },
  {
   "cell_type": "code",
   "execution_count": 9,
   "metadata": {},
   "outputs": [],
   "source": [
    "def hypothesisMulti(X, theta):\n",
    "    # return [np.dot(xi, theta) for xi in X]\n",
    "    return X.dot(theta)"
   ]
  },
  {
   "cell_type": "markdown",
   "metadata": {},
   "source": [
    "### Compute cost for linear regression\n",
    "`computeCost` computes the cost of using theta as the parameter for linear regression to fit the data points in X and y.\n",
    "\n",
    "Function cost:\n",
    "\n",
    "$ J(\\theta) = \\frac{1}{2m} \\sum_{i=0}^{m} (h_\\theta(x^{(i)}) - y^{(i)})^{2} $"
   ]
  },
  {
   "cell_type": "code",
   "execution_count": 10,
   "metadata": {},
   "outputs": [],
   "source": [
    "\"\"\"\n",
    "Inputs:\n",
    "X = [\n",
    "  [ x0, x1, x2 ]\n",
    "]\n",
    "y = [\n",
    "  [ ]\n",
    "]\n",
    "theta = [ theta_0, theta_1, theta_2 ]\n",
    "\"\"\"\n",
    "def computeCostMulti(X, y, theta):\n",
    "    m = len(y)\n",
    "    h_theta = hypothesisMulti(X, theta)\n",
    "    # j = (1 / (2 * m)) * ((h_theta - y) ** 2).sum()\n",
    "    j = (1 / (2 * m)) * (h_theta - y).T.dot(h_theta - y)\n",
    "    return j"
   ]
  },
  {
   "cell_type": "markdown",
   "metadata": {},
   "source": [
    "### Running Gradient Descent\n",
    "We use gradient descent to find the parameters values $\\theta$ that **minimize** $J$.\n",
    "In each iteration we calculate a $\\theta'$ where $J(\\theta') < J(\\theta)$.\n",
    "\n",
    "This $\\theta'$ defined by $\\theta' = \\theta - \\alpha * \\nabla h_\\theta$, where $\\nabla h_\\theta$ is the amount we need change to *minimize* $J(\\theta)$ and $\\alpha$ is the step we will take.\n",
    "\n",
    "If $\\alpha$ is too large we could ending increasing $J$, it need to be small enough to converge quickly to the points the $J(\\theta)$ is minimum.\n",
    "\n",
    "\n",
    "Step to update each parameter:\n",
    "\n",
    "$\\theta_j := \\theta_j - \\alpha * \\frac{\\partial J}{\\partial \\theta_j} $\n",
    "\n",
    "Where:\n",
    "\n",
    "$\\frac{\\partial J}{\\partial \\theta_j} = \\frac{1}{m} \\sum_{i=1}^{m} [( h_\\theta(x^{(i)}) - y^{(i)})$ when $j = 0$ (bacause it is the bias - doesn't have a feature).\n",
    "\n",
    "$\\frac{\\partial J}{\\partial \\theta_j} = \\frac{1}{m} \\sum_{i=1}^{m} [( h_\\theta(x^{(i)}) - y^{(i)}) * x^{(i)}]$ when $j > 1$.\n",
    "\n",
    "\n",
    "Metrix form:\n",
    "\n",
    "$ \\frac{\\partial J}{\\partial \\theta_j} = \\frac{1}{m} = X^{T} ( h_\\theta(x^{(i)}) - y^{(i)}) $\n",
    "\n",
    "\n",
    "`gradientDescent(X, y, theta, alpha, num_iters)` performs gradient descent to learn $\\theta$ parameters.\n",
    "\n",
    "It return the an array with $\\theta$ containing the values found by taking num_iters gradient steps with learning rate alpha.\n",
    "\n",
    "Also it return a array with the history of $J(\\theta)$ to be plotted."
   ]
  },
  {
   "cell_type": "code",
   "execution_count": 11,
   "metadata": {},
   "outputs": [],
   "source": [
    "def gradientDescentMulti(X, y, theta, alpha, num_iters):\n",
    "    m = len(y)\n",
    "    J_history = np.zeros(num_iters)\n",
    "    \n",
    "    for i in range(num_iters):\n",
    "        h_theta = hypothesisMulti(X, theta)\n",
    "        nabla = (1 / m) * (h_theta - y).T.dot(X);\n",
    "\n",
    "        theta = theta - alpha * nabla.T\n",
    "        \n",
    "        # Save the cost J in every iteration\n",
    "        J_history[i] = computeCostMulti(X, y, theta);\n",
    "    return theta, J_history"
   ]
  },
  {
   "cell_type": "code",
   "execution_count": 12,
   "metadata": {},
   "outputs": [
    {
     "name": "stdout",
     "output_type": "stream",
     "text": [
      "[340412.65345227 110572.96193087  -6591.38592285]\n"
     ]
    }
   ],
   "source": [
    "# Testing gradientDescentMulti\n",
    "theta, J_history = gradientDescentMulti(X, y, np.zeros(3), 0.3, 50)\n",
    "print(theta)\n",
    "# [340412.65345227 110572.96193087  -6591.38592285]"
   ]
  },
  {
   "cell_type": "markdown",
   "metadata": {},
   "source": [
    "After that, try running gradient descent with different values of alpha and see which one gives you the best result."
   ]
  },
  {
   "cell_type": "code",
   "execution_count": 13,
   "metadata": {},
   "outputs": [],
   "source": [
    "# computeCostMulti(np.array([X[0]]), np.array([y[0]]), np.zeros(3)) # should print 79960005000.0\n",
    "num_iters = 50; # with alpha = 0.01 we should rise the # of iterations\n",
    "alphas = [0.01, 1, 0.1, 0.3]\n",
    "colors = ['b', 'r', 'y', 'g'];"
   ]
  },
  {
   "cell_type": "code",
   "execution_count": 14,
   "metadata": {},
   "outputs": [
    {
     "name": "stdout",
     "output_type": "stream",
     "text": [
      "Running gradient descent ...\n",
      "\n"
     ]
    },
    {
     "data": {
      "text/plain": [
       "<matplotlib.legend.Legend at 0x121773e48>"
      ]
     },
     "execution_count": 14,
     "metadata": {},
     "output_type": "execute_result"
    },
    {
     "data": {
      "image/png": "[encoded data removed]",
      "text/plain": [
       "<Figure size 432x288 with 1 Axes>"
      ]
     },
     "metadata": {
      "needs_background": "light"
     },
     "output_type": "display_data"
    }
   ],
   "source": [
    "# To plot the J(theta) using different alphas\n",
    "fig, ax = plt.subplots()\n",
    "iterations = range(num_iters)\n",
    "\n",
    "print('Running gradient descent ...\\n')\n",
    "for alpha, color in zip(alphas, colors):\n",
    "    theta = np.zeros(3) # reset the theta to the current alpha\n",
    "    \n",
    "    theta, J_history = gradientDescentMulti(X, y, theta, alpha, num_iters)\n",
    "    # print('alpha ', alpha, ' found theta ', theta)\n",
    "    plt.plot(iterations, J_history, color=color, label='alpha %.2f' % alpha)\n",
    "    \n",
    "plt.legend(loc='best', ncol=2)"
   ]
  },
  {
   "cell_type": "code",
   "execution_count": 15,
   "metadata": {},
   "outputs": [
    {
     "name": "stdout",
     "output_type": "stream",
     "text": [
      "Theta computed from gradient descent:\n",
      "[340412.65345227 110572.96193087  -6591.38592285]\n"
     ]
    }
   ],
   "source": [
    "# Display gradient descent's result\n",
    "print('Theta computed from gradient descent:');\n",
    "print(theta);"
   ]
  },
  {
   "cell_type": "code",
   "execution_count": 16,
   "metadata": {},
   "outputs": [],
   "source": [
    "# Estimate the price of a 1650 sq-ft, 3 br house\n",
    "predict = [1650, 3]\n",
    "# normalize and add the x_0 = 1\n",
    "predict_norm = np.column_stack((np.ones(1), [((predict - mu) / sigma)]))"
   ]
  },
  {
   "cell_type": "code",
   "execution_count": 17,
   "metadata": {},
   "outputs": [
    {
     "name": "stdout",
     "output_type": "stream",
     "text": [
      "Predicted price:  293094.0981218172\n"
     ]
    }
   ],
   "source": [
    "price = hypothesisMulti(predict_norm, theta)[0] # 293094.09812\n",
    "print(\"Predicted price: \", price)"
   ]
  },
  {
   "cell_type": "markdown",
   "metadata": {},
   "source": [
    "### ================ Part 3: Normal Equations ================"
   ]
  },
  {
   "cell_type": "code",
   "execution_count": 18,
   "metadata": {},
   "outputs": [],
   "source": [
    "# Load again as we don't need to apply feature normalization\n",
    "x = np.array(data[['size', 'qty_bedrooms']]) # training set\n",
    "y = data['price'] # labels\n",
    "m = len(y) # training size\n",
    "\n",
    "X = np.column_stack((np.ones(m), x))"
   ]
  },
  {
   "cell_type": "markdown",
   "metadata": {},
   "source": [
    "Computes the closed-form solution to linear regression using the normal equations.\n",
    "\n",
    "$ inv(X^{T} * X) * X^{T} * y $"
   ]
  },
  {
   "cell_type": "code",
   "execution_count": 19,
   "metadata": {},
   "outputs": [],
   "source": [
    "def normalEqn(X, y):\n",
    "    xxInv = np.linalg.inv(np.matmul(X.transpose(), X))\n",
    "    return np.matmul(np.matmul(xxInv, X.transpose()), y)"
   ]
  },
  {
   "cell_type": "code",
   "execution_count": 20,
   "metadata": {},
   "outputs": [
    {
     "name": "stdout",
     "output_type": "stream",
     "text": [
      "Solving with normal equations...\n",
      "[89597.9095428    139.21067402 -8738.01911233]\n"
     ]
    }
   ],
   "source": [
    "print('Solving with normal equations...')\n",
    "theta = normalEqn(X, y)\n",
    "print(theta)"
   ]
  },
  {
   "cell_type": "code",
   "execution_count": 21,
   "metadata": {},
   "outputs": [
    {
     "name": "stdout",
     "output_type": "stream",
     "text": [
      "Predicted price:  293081.4643348959\n"
     ]
    }
   ],
   "source": [
    "# Estimate the price of a 1650 sq-ft, 3 br house\n",
    "predict = np.column_stack((np.ones(1), [[1650, 3]]))\n",
    "price = hypothesisMulti(predict, theta)[0] # 293081.46\n",
    "print(\"Predicted price: \", price)"
   ]
  },
  {
   "cell_type": "code",
   "execution_count": null,
   "metadata": {},
   "outputs": [],
   "source": []
  }
 ],
 "metadata": {
  "kernelspec": {
   "display_name": "Python 3",
   "language": "python",
   "name": "python3"
  },
  "language_info": {
   "codemirror_mode": {
    "name": "ipython",
    "version": 3
   },
   "file_extension": ".py",
   "mimetype": "text/x-python",
   "name": "python",
   "nbconvert_exporter": "python",
   "pygments_lexer": "ipython3",
   "version": "3.7.0"
  }
 },
 "nbformat": 4,
 "nbformat_minor": 2
}
