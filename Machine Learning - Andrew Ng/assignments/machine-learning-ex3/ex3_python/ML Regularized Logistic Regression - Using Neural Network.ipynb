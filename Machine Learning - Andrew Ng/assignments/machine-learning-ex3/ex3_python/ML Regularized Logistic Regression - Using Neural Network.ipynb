{
 "cells": [
  {
   "cell_type": "markdown",
   "metadata": {},
   "source": [
    "# ML Regularized Logistic Regression - Using Neural Network\n",
    "We will use a one-vs-all logistic regression to recognize hand-written digits.\n",
    "The data set contains the images pixels row-wise (20x20) plus its label.\n",
    "\n",
    "The digits are labeled from 1 to 10 where 10 is digit 0.\n",
    "\n",
    "The NN parameters was already trained (provided in the exercise).\n",
    "\n",
    "NN architecture:\n",
    "Input layer: 400 units (image 20x20)\n",
    "Hidden layer: 25 units\n",
    "Output layer: 10 units (1 to 10)"
   ]
  },
  {
   "cell_type": "code",
   "execution_count": 1,
   "metadata": {},
   "outputs": [],
   "source": [
    "import pandas as pd\n",
    "import numpy as np\n",
    "import seaborn as sns\n",
    "import matplotlib.pyplot as plt\n",
    "import scipy.io as sio\n",
    "import random"
   ]
  },
  {
   "cell_type": "markdown",
   "metadata": {},
   "source": [
    "## =========== Part 1: Loading and Visualizing Data ============="
   ]
  },
  {
   "cell_type": "code",
   "execution_count": 2,
   "metadata": {},
   "outputs": [],
   "source": [
    "# Read the Matlab file that have inverted orientation and label 10 means digit 0\n",
    "data = sio.loadmat('../ex3/ex3data1.mat')\n",
    "x = data['X']\n",
    "y = data['y']\n",
    "\n",
    "[m, n] = np.shape(x)\n",
    "\n",
    "# reshape Matlab matrix mx1 to numpy array 1xm\n",
    "y = np.reshape(y, [m])"
   ]
  },
  {
   "cell_type": "code",
   "execution_count": 3,
   "metadata": {},
   "outputs": [],
   "source": [
    "# Setup the parameters\n",
    "input_layer_size  = 400 # 20x20 Input Images of Digits\n",
    "hidden_layer_size = 25  # 25 hidden units\n",
    "num_labels = 10         # 10 labels, from 0 to 9"
   ]
  },
  {
   "cell_type": "code",
   "execution_count": 4,
   "metadata": {},
   "outputs": [
    {
     "data": {
      "text/plain": [
       "<matplotlib.image.AxesImage at 0x109e552e8>"
      ]
     },
     "execution_count": 4,
     "metadata": {},
     "output_type": "execute_result"
    },
    {
     "data": {
      "image/png": "[encoded data removed]",
      "text/plain": [
       "<Figure size 432x288 with 1 Axes>"
      ]
     },
     "metadata": {
      "needs_background": "light"
     },
     "output_type": "display_data"
    }
   ],
   "source": [
    "digitMatrix = np.column_stack([np.reshape(x[0], [20, 20]), np.zeros([20, 1]), \\\n",
    "                               np.reshape(x[2500], [20, 20]), np.zeros([20, 1]), \\\n",
    "                               np.reshape(x[3500], [20, 20]), np.zeros([20, 1]), \\\n",
    "                               np.reshape(x[4810], [20, 20]), np.zeros([20, 1])])\n",
    "plt.title(\"Digits examples: %s, %s, %s, %s\" % (y[0], y[2500], y[3500], y[4810]))\n",
    "plt.imshow(digitMatrix, cmap='Greys', interpolation='nearest')"
   ]
  },
  {
   "cell_type": "markdown",
   "metadata": {},
   "source": [
    "## ================ Part 2: Loading Pameters ================\n",
    "In this part of the exercise, we load some pre-initialized neural network parameters."
   ]
  },
  {
   "cell_type": "code",
   "execution_count": 5,
   "metadata": {},
   "outputs": [
    {
     "name": "stdout",
     "output_type": "stream",
     "text": [
      "Loading Saved Neural Network Parameters ...\n"
     ]
    }
   ],
   "source": [
    "print('Loading Saved Neural Network Parameters ...')\n",
    "# Read the Matlab file\n",
    "nn_weights = sio.loadmat('../ex3/ex3weights.mat')"
   ]
  },
  {
   "cell_type": "code",
   "execution_count": 6,
   "metadata": {},
   "outputs": [
    {
     "name": "stdout",
     "output_type": "stream",
     "text": [
      "(25, 401)\n",
      "(10, 26)\n"
     ]
    }
   ],
   "source": [
    "Theta1 = nn_weights['Theta1']\n",
    "Theta2 = nn_weights['Theta2']\n",
    "\n",
    "print(Theta1.shape)\n",
    "print(Theta2.shape)"
   ]
  },
  {
   "cell_type": "markdown",
   "metadata": {},
   "source": [
    "## ================= Part 3: Implement Predict ================="
   ]
  },
  {
   "cell_type": "markdown",
   "metadata": {},
   "source": [
    "We will use the sigmoid function as our activation function.\n",
    "\n",
    "$g(z) = \\frac{1}{1 + e^{-z}}$\n",
    "\n",
    "When:\n",
    "\n",
    "$z = 0$ then $g = 0.5$\n",
    "\n",
    "$z \\rightarrow +\\infty$ then $g \\rightarrow +1$\n",
    "\n",
    "$z \\rightarrow -\\infty$ then $g \\rightarrow 0$"
   ]
  },
  {
   "cell_type": "code",
   "execution_count": 7,
   "metadata": {},
   "outputs": [],
   "source": [
    "def sigmoid(z):\n",
    "    return 1 / (1 + np.exp(-z))"
   ]
  },
  {
   "cell_type": "code",
   "execution_count": 8,
   "metadata": {},
   "outputs": [],
   "source": [
    "def predict_looping(Theta1, Theta2, X):\n",
    "    [m, n] = np.shape(X)\n",
    "    \n",
    "    p = np.zeros([m])\n",
    "    \n",
    "    for t in range(m):\n",
    "        # === Activations from Input Layer (features) ===\n",
    "        # add a1_0 = 1\n",
    "        a1 = np.append(1, X[t])\n",
    "        \n",
    "        \n",
    "        # === Activations from Hidden Layer ===\n",
    "        k = np.shape(Theta1)[0] # qty units in Hidden Layer\n",
    "        a2 = np.zeros([k])\n",
    "        \n",
    "        # Loop through Hidden Layer's units\n",
    "        for j in range(k):\n",
    "            z2_j = Theta1[j].dot(a1)\n",
    "            a2[j] = sigmoid(z2_j)\n",
    "        \n",
    "        # add a2_0 = 1\n",
    "        a2 = np.append(1, a2)\n",
    "        \n",
    "        \n",
    "        # === Activations from Output Layer ===\n",
    "        k = np.shape(Theta2)[0]\n",
    "        a3 = np.zeros([k])\n",
    "        \n",
    "        # Loop through Output Layer's units\n",
    "        for j in range(k):\n",
    "            z3_j = Theta2[j].dot(a2)\n",
    "            a3[j] = sigmoid(z3_j)\n",
    "        \n",
    "        \n",
    "        # === softmax from our output (the index is our classification class) ===\n",
    "        p[t] = np.argmax(a3) + 1 # +1 because the Matlab file is indexed 1-10\n",
    "    return p\n",
    "\n",
    "def predict_vectorial(Theta1, Theta2, X):\n",
    "    # === Activations from Input Layer (features) ===\n",
    "    # add a1_0 = 1\n",
    "    a1 = np.column_stack([np.ones([m]), X])\n",
    "    \n",
    "    # === Activations from Hidden Layer ===\n",
    "    z2 = a1.dot(Theta1.T)\n",
    "    a2 = sigmoid(z2)\n",
    "    # add a2_0 = 1\n",
    "    a2 = np.column_stack([np.ones([m]), a2])\n",
    "    \n",
    "    # === Activations from Output Layer ===\n",
    "    z3 = a2.dot(Theta2.T)\n",
    "    a3 = sigmoid(z3)\n",
    "    \n",
    "    # === softmax from our output (the index is our classification class) ===\n",
    "    p = np.argmax(a3, axis=1) + 1 # +1 because the Matlab file is indexed 1-10\n",
    "    \n",
    "    return p"
   ]
  },
  {
   "cell_type": "code",
   "execution_count": 9,
   "metadata": {},
   "outputs": [
    {
     "name": "stdout",
     "output_type": "stream",
     "text": [
      "Predictions: 10 5 7 9\n",
      "Training Set Accuracy: 97.52\n"
     ]
    }
   ],
   "source": [
    "pred = predict_vectorial(Theta1, Theta2, x)\n",
    "print('Predictions:', pred[0], pred[2500], pred[3500], pred[4500])\n",
    "print('Training Set Accuracy:', np.mean(pred == y) * 100) # Expect 97.5%"
   ]
  },
  {
   "cell_type": "code",
   "execution_count": null,
   "metadata": {},
   "outputs": [],
   "source": []
  }
 ],
 "metadata": {
  "kernelspec": {
   "display_name": "Python 3",
   "language": "python",
   "name": "python3"
  },
  "language_info": {
   "codemirror_mode": {
    "name": "ipython",
    "version": 3
   },
   "file_extension": ".py",
   "mimetype": "text/x-python",
   "name": "python",
   "nbconvert_exporter": "python",
   "pygments_lexer": "ipython3",
   "version": "3.7.0"
  }
 },
 "nbformat": 4,
 "nbformat_minor": 2
}
