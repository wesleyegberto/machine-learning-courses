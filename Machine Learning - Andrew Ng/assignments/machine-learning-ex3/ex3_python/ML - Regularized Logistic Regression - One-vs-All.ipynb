{
 "cells": [
  {
   "cell_type": "markdown",
   "metadata": {},
   "source": [
    "# ML Regularized Logistic Regression - Using One-vs-All\n",
    "\n",
    "We will use an One-vs-all logistic regression to recognize hand-written digits.\n",
    "\n",
    "The data set contains the images pixels row-wise (20x20) plus its label.\n",
    "The digits are labeled from 0 through 9."
   ]
  },
  {
   "cell_type": "code",
   "execution_count": 1,
   "metadata": {},
   "outputs": [],
   "source": [
    "import pandas as pd\n",
    "import numpy as np\n",
    "import seaborn as sns\n",
    "import matplotlib.pyplot as plt\n",
    "import random"
   ]
  },
  {
   "cell_type": "markdown",
   "metadata": {},
   "source": [
    "## =========== Part 1: Loading and Visualizing Data ============="
   ]
  },
  {
   "cell_type": "code",
   "execution_count": 2,
   "metadata": {},
   "outputs": [
    {
     "name": "stdout",
     "output_type": "stream",
     "text": [
      "Profiling Data\n",
      "<class 'pandas.core.frame.DataFrame'>\n",
      "RangeIndex: 5000 entries, 0 to 4999\n",
      "Columns: 401 entries, 1 to 401\n",
      "dtypes: float64(395), int64(6)\n",
      "memory usage: 15.3 MB\n",
      "None\n",
      "   1    2    3    4    5    6    7    8    9   10 ...   392  393  394  395  \\\n",
      "0  0  0.0  0.0  0.0  0.0  0.0  0.0  0.0  0.0  0.0 ...   0.0  0.0  0.0  0.0   \n",
      "1  0  0.0  0.0  0.0  0.0  0.0  0.0  0.0  0.0  0.0 ...   0.0  0.0  0.0  0.0   \n",
      "2  0  0.0  0.0  0.0  0.0  0.0  0.0  0.0  0.0  0.0 ...   0.0  0.0  0.0  0.0   \n",
      "3  0  0.0  0.0  0.0  0.0  0.0  0.0  0.0  0.0  0.0 ...   0.0  0.0  0.0  0.0   \n",
      "4  0  0.0  0.0  0.0  0.0  0.0  0.0  0.0  0.0  0.0 ...   0.0  0.0  0.0  0.0   \n",
      "\n",
      "   396  397  398  399  400  401  \n",
      "0  0.0  0.0  0.0  0.0    0    0  \n",
      "1  0.0  0.0  0.0  0.0    0    0  \n",
      "2  0.0  0.0  0.0  0.0    0    0  \n",
      "3  0.0  0.0  0.0  0.0    0    0  \n",
      "4  0.0  0.0  0.0  0.0    0    0  \n",
      "\n",
      "[5 rows x 401 columns]\n"
     ]
    }
   ],
   "source": [
    "data = pd.read_csv('ex3data1.txt', names=[str(i) for i in range(1, 402)])\n",
    "print('Profiling Data')\n",
    "print(data.info())\n",
    "print(data.head())"
   ]
  },
  {
   "cell_type": "code",
   "execution_count": 3,
   "metadata": {},
   "outputs": [],
   "source": [
    "x = np.array(data[[str(i) for i in range(1, 401)]]) # training set\n",
    "y = np.array(data['401']) # labels (0-9)\n",
    "[m, n] = np.shape(x)"
   ]
  },
  {
   "cell_type": "code",
   "execution_count": 4,
   "metadata": {},
   "outputs": [
    {
     "data": {
      "text/plain": [
       "Text(0.5, 1.0, 'Digits examples: 0, 5, 7, 9')"
      ]
     },
     "execution_count": 4,
     "metadata": {},
     "output_type": "execute_result"
    },
    {
     "data": {
      "image/png": "[encoded data removed]",
      "text/plain": [
       "<Figure size 432x288 with 1 Axes>"
      ]
     },
     "metadata": {
      "needs_background": "light"
     },
     "output_type": "display_data"
    }
   ],
   "source": [
    "digitMatrix = np.column_stack([np.reshape(x[0], [20, 20]), np.zeros([20, 1]), \\\n",
    "                               np.reshape(x[2500], [20, 20]), np.zeros([20, 1]), \\\n",
    "                               np.reshape(x[3500], [20, 20]), np.zeros([20, 1]), \\\n",
    "                               np.reshape(x[4500], [20, 20]), np.zeros([20, 1])])\n",
    "plt.imshow(digitMatrix, cmap='Greys', interpolation='nearest')\n",
    "plt.title(\"Digits examples: %s, %s, %s, %s\" % (y[0], y[2500], y[3500], y[4500]))\n",
    "# plt.show()"
   ]
  },
  {
   "cell_type": "markdown",
   "metadata": {},
   "source": [
    "## ============ Part 2: Hypothesis Model ============"
   ]
  },
  {
   "cell_type": "markdown",
   "metadata": {},
   "source": [
    "### Activation Function\n",
    "We will use the sigmoid function as our activation function.\n",
    "\n",
    "$g(z) = \\frac{1}{1 + e^{-z}}$\n",
    "\n",
    "When:\n",
    "\n",
    "$z = 0$ then $g = 0.5$\n",
    "\n",
    "$z \\rightarrow +\\infty$ then $g \\rightarrow +1$\n",
    "\n",
    "$z \\rightarrow -\\infty$ then $g \\rightarrow 0$"
   ]
  },
  {
   "cell_type": "code",
   "execution_count": 5,
   "metadata": {},
   "outputs": [],
   "source": [
    "\"\"\"\n",
    "Sigmoid activation function\n",
    "\"\"\"\n",
    "def sigmoid(z):\n",
    "    return 1 / (1 + np.exp(-z))"
   ]
  },
  {
   "cell_type": "markdown",
   "metadata": {},
   "source": [
    "### Hypothesis\n",
    "Function that defines our logistic model.\n",
    "\n",
    "Definition:\n",
    "\n",
    "$h_\\theta(x) = g(\\theta_0 + \\theta_1 * x_1 + \\theta_2 * x_2)$\n",
    "\n",
    "Vectorial form:\n",
    "\n",
    "$h_\\theta(x) = g(\\theta^{T} * x)$\n",
    "\n",
    "where:\n",
    "\n",
    "$g$ is the sigmoid function; $x = [x_0, x_1, x_2]$; $x_0 = 1$ and $\\theta = [\\theta_0, \\theta_1, \\theta_2]$"
   ]
  },
  {
   "cell_type": "code",
   "execution_count": 6,
   "metadata": {},
   "outputs": [],
   "source": [
    "def hypothesis(X, theta):\n",
    "    return sigmoid(X.dot(theta))"
   ]
  },
  {
   "cell_type": "markdown",
   "metadata": {},
   "source": [
    "## ============ Part 3: Cost Function and Gradient Descent ============"
   ]
  },
  {
   "cell_type": "markdown",
   "metadata": {},
   "source": [
    "### Regularized Logistic Cost Function\n",
    "\n",
    "Computes the logistic cost of our model using theta as the parameter for logistic regression to fit the data points in X and y, considering the cost of a particular choice of theta.\n",
    "\n",
    "For parameter $\\theta_0$ we aren't computing its cost because it is the bias - doesn't have a feature.\n",
    "\n",
    "Function cost:\n",
    "\n",
    "$ J(\\theta) = \\frac{1}{m} \\sum_{i=1}^{m} [ -y^{(i)} log(h_\\theta(x^{(i)}) - (1 - y^{(i)}) log(1 - h_\\theta(x^{(i)})) ] + \\frac{\\lambda}{2m} \\sum_{j=1}^{n} \\theta_j^{2}$\n",
    "\n",
    "Vectorial form:\n",
    "\n",
    "$ J(\\theta) = [\\frac{1}{m} * (-\\vec{y}^{T} \\cdot log(h_\\theta(\\vec{x})) - (1 - \\vec{y})^{T} \\cdot log(1 - h_\\theta(\\vec{x})))] + \\frac{\\lambda}{2m} \\sum_{j=1}^{n} \\theta_j^{2} $\n",
    "\n",
    "If any time we got a $log(h_\\theta(x^{(i)})) = 0$ that means we need to normalize the features."
   ]
  },
  {
   "cell_type": "code",
   "execution_count": 7,
   "metadata": {},
   "outputs": [],
   "source": [
    "def regularizedLogisticCostFunction(X, y, theta, lambd):\n",
    "    m = len(X)\n",
    "    # calculate the cost\n",
    "    h = hypothesis(X, theta)\n",
    "    loss = -(1 / m) * (y.T.dot(np.log(h)) + (1 - y).T.dot(np.log(1 - h)))\n",
    "    # apply regularization\n",
    "    regLoss = loss + (lambd / (2 * m) * theta[1:].T.dot(theta[1:]))\n",
    "    return regLoss"
   ]
  },
  {
   "cell_type": "code",
   "execution_count": 8,
   "metadata": {},
   "outputs": [
    {
     "name": "stdout",
     "output_type": "stream",
     "text": [
      "Testing regularized cost function\n",
      "J ~= 4.6832 -> 4.683166549810689\n",
      "J ~= 8.6832 -> 8.68316654981069\n"
     ]
    }
   ],
   "source": [
    "print('Testing regularized cost function')\n",
    "X_ = np.array([\n",
    "    [1, 8, 1, 6],\n",
    "    [1, 3, 5, 7],\n",
    "    [1, 4, 9, 2]\n",
    "]);\n",
    "y_ = np.array([1, 0, 1]);\n",
    "theta_ = np.array([-2, -1, 1, 2]);\n",
    "\n",
    "print('J ~= 4.6832 ->', regularizedLogisticCostFunction(X_, y_, theta_, 0))\n",
    "print('J ~= 8.6832 ->', regularizedLogisticCostFunction(X_, y_, theta_, 4))"
   ]
  },
  {
   "cell_type": "markdown",
   "metadata": {},
   "source": [
    "### Regularized Gradient Descent\n",
    "Performs gradient descent to learn $\\theta$ parameters.\n",
    "It return an array with $\\theta$ containing the values found by taking num_iters gradient steps with learning rate $\\alpha$.\n",
    "Also it return an array with the history of $J(\\theta)$ to be plotted.\n",
    "\n",
    "Step to update each parameter:\n",
    "\n",
    "$\\theta_j := \\theta_j - \\alpha * \\dfrac{\\partial J}{\\partial \\theta_j} $\n",
    "\n",
    "$\\dfrac{\\partial J}{\\partial \\theta_j} = \\frac{1}{m} \\sum_{i=1}^{m} [( h_\\theta(x^{(i)}) - y^{(i)}) * x^{(i)}] + \\frac{\\lambda}{m} \\theta_j$\n",
    "\n",
    "Vectorial form:\n",
    "\n",
    "$\\theta := \\theta - \\alpha * \\dfrac{\\partial J}{\\partial \\theta} $\n",
    "\n",
    "$\\dfrac{\\partial J}{\\partial \\theta} = \\frac{1}{m} X^{T} ( h_\\theta(x^{(i)}) - y^{(i)}) + \\frac{\\lambda}{m} \\theta$"
   ]
  },
  {
   "cell_type": "code",
   "execution_count": 9,
   "metadata": {},
   "outputs": [],
   "source": [
    "def regularizedGradientDescent(X, y, theta, alpha, lambd, num_iters):\n",
    "    m = len(X)\n",
    "    J_history = np.zeros(num_iters)\n",
    "    \n",
    "    for i in range(num_iters):\n",
    "        # gradient\n",
    "        h = hypothesis(X, theta)\n",
    "        nabla = (1 / m) * X.T.dot(h - y)\n",
    "        # apply regularization\n",
    "        nabla_theta_0 = nabla[0]\n",
    "        reg_nabla = nabla + (lambd / m * theta)\n",
    "        reg_nabla[0] = nabla_theta_0\n",
    "        \n",
    "        # print(reg_nabla)\n",
    "        # update each parameter\n",
    "        theta = theta - alpha * reg_nabla\n",
    "        # Save the cost J in every iteration\n",
    "        J_history[i] = regularizedLogisticCostFunction(X, y, theta, lambd)\n",
    "    return theta, J_history"
   ]
  },
  {
   "cell_type": "code",
   "execution_count": 10,
   "metadata": {},
   "outputs": [
    {
     "name": "stdout",
     "output_type": "stream",
     "text": [
      "(array([-2., -1.,  1.,  2.]), array([4.68316655]))\n",
      "(array([-2., -1.,  1.,  2.]), array([8.68316655]))\n"
     ]
    }
   ],
   "source": [
    "# gradient w/o reg: [ 0.31722, 0.87232, 1.64812, 2.23787 ]\n",
    "print(regularizedGradientDescent(X_, y_, theta_, 0, 0, 1)) # ~= [-2, -1, 1, 2], [4.6831]\n",
    "\n",
    "# gradient w/ reg: [ 0.31722, -0.46102, 2.98146, 4.90454 ]\n",
    "print(regularizedGradientDescent(X_, y_, theta_, 0, 4, 1)) # ~= [-2, -1, 1, 2], [8.6832]"
   ]
  },
  {
   "cell_type": "markdown",
   "metadata": {},
   "source": [
    "## ============ Part 4: One-vs-All Training ============"
   ]
  },
  {
   "cell_type": "code",
   "execution_count": 11,
   "metadata": {},
   "outputs": [],
   "source": [
    "def train_one_vs_all(x, y, num_labels, alpha, lambd, num_iters):\n",
    "    \"\"\"\n",
    "    Train a logistic model for each label/digit.\n",
    "    As we are recognizing digits, we will have 10 models.\n",
    "    \n",
    "    It returns a matrix with dimension (num_labels)x(n + 1)\n",
    "    \"\"\"\n",
    "    [m, n] = np.shape(x)\n",
    "    all_theta = np.zeros([num_labels, n + 1]) # n parameters + 1 for bias (theta_0)\n",
    "    J_history = np.zeros([num_labels, num_iters])\n",
    "    \n",
    "    X = np.column_stack([np.ones(m), x])\n",
    "    \n",
    "    for k in range(num_labels):\n",
    "        theta = np.zeros([n + 1])\n",
    "\n",
    "        # pass only the class related to current k (we are training to recognize this digit)\n",
    "        k_y = np.zeros([m])\n",
    "        k_y[y == k] = 1\n",
    "        theta, J_history[k] = regularizedGradientDescent(X, k_y, theta, alpha, lambd, num_iters)\n",
    "        \n",
    "        all_theta[k] = theta\n",
    "    return all_theta, J_history"
   ]
  },
  {
   "cell_type": "code",
   "execution_count": 12,
   "metadata": {},
   "outputs": [
    {
     "name": "stdout",
     "output_type": "stream",
     "text": [
      "Training One-vs-All Logistic Regression...\n",
      "Trained\n"
     ]
    }
   ],
   "source": [
    "# regularization parameter\n",
    "lambd = 0.1 # higher than 1 will decrease the accuracy\n",
    "num_digits = 10\n",
    "gc_num_iters = 50\n",
    "\n",
    "# alpha = 1 # won't cause overshoot (and input 2500 will predict as 3) - accuracy is 88.466%\n",
    "# alpha = 1.1 # won't cause overshoot (and input 2500 will predict as 3) - accuracy is 88.539%\n",
    "# alpha = 1.3 # starting to cause overshoot in classifer for digit 8 - accuracy is 88.98%\n",
    "# alpha = 3 # will cause some overshoot in many classes - accuracy is 88.26%\n",
    "alpha = 2 # will cause less overshoot - accuracy is 89.62%\n",
    "\n",
    "# Note: on Octave, using fmincg instead of Gradient Descent it had accurary of 95%\n",
    "\n",
    "print('Training One-vs-All Logistic Regression...')\n",
    "all_theta, J_history = train_one_vs_all(x, y, num_digits, alpha, lambd, gc_num_iters)\n",
    "print('Trained')"
   ]
  },
  {
   "cell_type": "code",
   "execution_count": 13,
   "metadata": {},
   "outputs": [
    {
     "name": "stdout",
     "output_type": "stream",
     "text": [
      "Plotting cost function through iterations\n"
     ]
    },
    {
     "data": {
      "text/plain": [
       "<matplotlib.legend.Legend at 0x1160a75c0>"
      ]
     },
     "execution_count": 13,
     "metadata": {},
     "output_type": "execute_result"
    },
    {
     "data": {
      "image/png": "[encoded data removed]",
      "text/plain": [
       "<Figure size 432x288 with 1 Axes>"
      ]
     },
     "metadata": {
      "needs_background": "light"
     },
     "output_type": "display_data"
    }
   ],
   "source": [
    "print('Plotting cost function through iterations')\n",
    "\n",
    "# To plot the J(theta)\n",
    "fig, ax = plt.subplots()\n",
    "iterations = range(gc_num_iters)\n",
    "\n",
    "for k in range(num_digits):\n",
    "    plt.plot(iterations, J_history[k], label='Digit %d' % k)\n",
    "plt.legend(loc='best', ncol=2)"
   ]
  },
  {
   "cell_type": "markdown",
   "metadata": {},
   "source": [
    "## ================ Part 5: Predict for One-Vs-All ================"
   ]
  },
  {
   "cell_type": "code",
   "execution_count": 14,
   "metadata": {},
   "outputs": [],
   "source": [
    "def predict_one_vs_all(all_theta, x):\n",
    "    m = len(x)\n",
    "    num_labels = len(all_theta)\n",
    "    \n",
    "    X = np.column_stack([np.ones(m), x])\n",
    "    \n",
    "    pk = np.zeros([m, num_labels])\n",
    "    for k in range(num_labels):\n",
    "        pk[:, k] = hypothesis(X, all_theta[k])\n",
    "    return np.argmax(pk, axis=1)"
   ]
  },
  {
   "cell_type": "code",
   "execution_count": 15,
   "metadata": {},
   "outputs": [
    {
     "name": "stdout",
     "output_type": "stream",
     "text": [
      "Predictions: 0 5 7 9\n",
      "Training Set Accuracy: 89.62\n"
     ]
    }
   ],
   "source": [
    "pred = predict_one_vs_all(all_theta, x);\n",
    "print('Predictions:', pred[0], pred[2500], pred[3500], pred[4500])\n",
    "print('Training Set Accuracy:', np.mean(pred == y) * 100);"
   ]
  },
  {
   "cell_type": "code",
   "execution_count": 16,
   "metadata": {},
   "outputs": [],
   "source": [
    "def predict_and_display(x, y, all_theta, index):\n",
    "    xp = x[index]\n",
    "    yp = y[index]\n",
    "    digitMatrix = np.column_stack([np.reshape(xp, [20, 20]), np.zeros([20, 1])])\n",
    "    plt.imshow(digitMatrix, cmap='Greys', interpolation='nearest')\n",
    "    pred = predict_one_vs_all(all_theta, np.array([xp]))\n",
    "    plt.title(\"Digit %s, Predicted %s\" % (yp, pred[0]))"
   ]
  },
  {
   "cell_type": "code",
   "execution_count": 17,
   "metadata": {},
   "outputs": [
    {
     "data": {
      "image/png": "[encoded data removed]",
      "text/plain": [
       "<Figure size 432x288 with 1 Axes>"
      ]
     },
     "metadata": {
      "needs_background": "light"
     },
     "output_type": "display_data"
    }
   ],
   "source": [
    "predict_and_display(x, y, all_theta, random.randint(0, m))"
   ]
  },
  {
   "cell_type": "code",
   "execution_count": null,
   "metadata": {},
   "outputs": [],
   "source": []
  }
 ],
 "metadata": {
  "kernelspec": {
   "display_name": "Python 3",
   "language": "python",
   "name": "python3"
  },
  "language_info": {
   "codemirror_mode": {
    "name": "ipython",
    "version": 3
   },
   "file_extension": ".py",
   "mimetype": "text/x-python",
   "name": "python",
   "nbconvert_exporter": "python",
   "pygments_lexer": "ipython3",
   "version": "3.7.0"
  }
 },
 "nbformat": 4,
 "nbformat_minor": 2
}
