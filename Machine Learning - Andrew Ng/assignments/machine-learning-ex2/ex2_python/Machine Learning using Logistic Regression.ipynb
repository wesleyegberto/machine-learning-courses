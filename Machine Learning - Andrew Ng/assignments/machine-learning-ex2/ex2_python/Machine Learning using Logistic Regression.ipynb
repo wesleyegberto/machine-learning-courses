{
 "cells": [
  {
   "cell_type": "markdown",
   "metadata": {},
   "source": [
    "# Machine Learning using Logistic Regression\n",
    "\n",
    "Classifier model that estimates an applicant’s probability of admission based the scores from those two exams."
   ]
  },
  {
   "cell_type": "code",
   "execution_count": 1,
   "metadata": {},
   "outputs": [],
   "source": [
    "import pandas as pd\n",
    "import numpy as np\n",
    "# import pandas_profiling\n",
    "import seaborn as sns\n",
    "import matplotlib.pyplot as plt"
   ]
  },
  {
   "cell_type": "code",
   "execution_count": 2,
   "metadata": {},
   "outputs": [
    {
     "name": "stdout",
     "output_type": "stream",
     "text": [
      "Profiling Data\n",
      "<class 'pandas.core.frame.DataFrame'>\n",
      "RangeIndex: 100 entries, 0 to 99\n",
      "Data columns (total 3 columns):\n",
      "score1      100 non-null float128\n",
      "score2      100 non-null float128\n",
      "admitted    100 non-null float128\n",
      "dtypes: float128(3)\n",
      "memory usage: 4.8 KB\n",
      "None\n",
      "      score1     score2  admitted\n",
      "0  34.623660  78.024693       0.0\n",
      "1  30.286711  43.894998       0.0\n",
      "2  35.847409  72.902198       0.0\n",
      "3  60.182599  86.308552       1.0\n",
      "4  79.032736  75.344376       1.0\n"
     ]
    }
   ],
   "source": [
    "data = pd.read_csv('ex2data1.txt', names = ['score1', 'score2', 'admitted'])\n",
    "data = data.astype('float128')\n",
    "print('Profiling Data')\n",
    "print(data.info())\n",
    "print(data.head())\n",
    "\n",
    "# profile = pandas_profiling.ProfileReport(df)\n",
    "# profile.to_file(outputfile=\"output.html\")"
   ]
  },
  {
   "cell_type": "code",
   "execution_count": 3,
   "metadata": {},
   "outputs": [],
   "source": [
    "x = np.array(data[['score1', 'score2']]) # training set\n",
    "y = np.array(data['admitted']) # labels\n",
    "[m, n] = np.shape(x)"
   ]
  },
  {
   "cell_type": "markdown",
   "metadata": {},
   "source": [
    "## ==================== Part 1: Plotting ===================="
   ]
  },
  {
   "cell_type": "code",
   "execution_count": 4,
   "metadata": {},
   "outputs": [
    {
     "name": "stdout",
     "output_type": "stream",
     "text": [
      "Plotting data with \"x\" indicating (y = 1) examples and \"o\" indicating (y = 0) examples.\n"
     ]
    },
    {
     "data": {
      "text/plain": [
       "<matplotlib.axes._subplots.AxesSubplot at 0x113afc6d8>"
      ]
     },
     "execution_count": 4,
     "metadata": {},
     "output_type": "execute_result"
    },
    {
     "data": {
      "image/png": "[encoded data removed]",
      "text/plain": [
       "<Figure size 432x288 with 1 Axes>"
      ]
     },
     "metadata": {
      "needs_background": "light"
     },
     "output_type": "display_data"
    }
   ],
   "source": [
    "print('Plotting data with \"x\" indicating (y = 1) examples and \"o\" indicating (y = 0) examples.')\n",
    "sns.scatterplot('score1', 'score2', hue='admitted', style='admitted', data=data)"
   ]
  },
  {
   "cell_type": "markdown",
   "metadata": {},
   "source": [
    "## =========== Part 2: Mapping Features ============\n",
    "\n",
    "One way to fit the data better is to create more features from each data point. We will map the features into all polynomial terms of $x_1$ and $x_2$ up to the sixth power.\n",
    "\n",
    "As a result of this mapping, our vector of two features (the scores on two QA tests) has been transformed into a 28-dimensional vector. A logistic regression classifier trained on this higher-dimension feature vector will have a more complex decision boundary and will appear nonlinear when drawn in our 2-dimensional plot.\n",
    "\n",
    "While the feature mapping allows us to build a more expressive classifier, it also more susceptible to overfitting. To void that we will implement regularized logistic regression to fit the data and combat the overfitting problem."
   ]
  },
  {
   "cell_type": "code",
   "execution_count": 5,
   "metadata": {},
   "outputs": [],
   "source": [
    "\"\"\"\n",
    "Normalizes the features in X \n",
    "returns a normalized version of X where the mean value of each feature is 0 and the standard deviation is 1.\n",
    "This is often a good preprocessing step to do when working with learning algorithms.\n",
    "\n",
    "First, for each feature dimension, compute the mean of the feature and subtract it from the dataset,\n",
    "storing the mean value in mu. Next, compute the  standard deviation of each feature and divide\n",
    "each feature by it's standard deviation, storing the standard deviation in sigma.\n",
    "\"\"\"\n",
    "def featureNormalize(X):\n",
    "    X_norm = np.zeros(np.shape(X))\n",
    "    qty_features = np.shape(X)[1]\n",
    "    mu = np.zeros(qty_features)\n",
    "    sigma = np.zeros(qty_features)\n",
    "    \n",
    "    for i in range(qty_features):\n",
    "        mu[i] = np.mean(X[:,i])\n",
    "        X_norm[:,i] = X[:,i] - mu[i]\n",
    "        \n",
    "        # by default np.std calculate the population std, here we want sample std (as done in Octave)\n",
    "        sigma[i] = np.std(X_norm[:,i], ddof=1) # default: ddof=0 (N - 0) will predict 293092.21273075533\n",
    "        X_norm[:,i] = X_norm[:,i] / sigma[i]\n",
    "    return X_norm, mu, sigma"
   ]
  },
  {
   "cell_type": "code",
   "execution_count": 6,
   "metadata": {},
   "outputs": [
    {
     "name": "stdout",
     "output_type": "stream",
     "text": [
      "X Norm [[ 0.          0.        ]\n",
      " [-0.79249985  0.        ]\n",
      " [ 0.46543642  0.        ]\n",
      " [-1.0818252  -1.41421356]\n",
      " [ 1.40888863  1.41421356]]\n",
      "mu [2104.    3.]\n",
      "sigma [635.96226303   0.70710678]\n"
     ]
    }
   ],
   "source": [
    "# Tessting Feature Normalization\n",
    "X_ = np.array([\n",
    "    [2104, 3],\n",
    "    [1600, 3],\n",
    "    [2400, 3],\n",
    "    [1416, 2],\n",
    "    [3000, 4]\n",
    "])\n",
    "X_n, mu_, sigma_ = featureNormalize(X_)\n",
    "print(\"X Norm\", X_n)\n",
    "print(\"mu\", mu_) # [2104.    3.]\n",
    "print(\"sigma\", sigma_) # [635.96226303   0.70710678]"
   ]
  },
  {
   "cell_type": "code",
   "execution_count": 7,
   "metadata": {},
   "outputs": [
    {
     "name": "stdout",
     "output_type": "stream",
     "text": [
      "Normalizing Features ...\n",
      "\n",
      "Normalized data\n"
     ]
    },
    {
     "data": {
      "text/plain": [
       "array([[-1.59421626,  0.63514139],\n",
       "       [-1.81710142, -1.20148852],\n",
       "       [-1.53132516,  0.35948329],\n",
       "       [-0.28068724,  1.08092281],\n",
       "       [ 0.68806193,  0.49090485]])"
      ]
     },
     "execution_count": 7,
     "metadata": {},
     "output_type": "execute_result"
    }
   ],
   "source": [
    "# Scale features and set them to zero mean\n",
    "print('Normalizing Features ...\\n')\n",
    "# We normalize to avoid log(0) because our sigmoid will return small values\n",
    "X, mu, sigma = featureNormalize(x)\n",
    "\n",
    "print('Normalized data')\n",
    "X[:5]"
   ]
  },
  {
   "cell_type": "code",
   "execution_count": 8,
   "metadata": {},
   "outputs": [
    {
     "data": {
      "text/plain": [
       "array([[ 1.        , -1.59421626,  0.63514139],\n",
       "       [ 1.        , -1.81710142, -1.20148852],\n",
       "       [ 1.        , -1.53132516,  0.35948329],\n",
       "       [ 1.        , -0.28068724,  1.08092281],\n",
       "       [ 1.        ,  0.68806193,  0.49090485]])"
      ]
     },
     "execution_count": 8,
     "metadata": {},
     "output_type": "execute_result"
    }
   ],
   "source": [
    "# Add a column of ones to X to facilitate the manipulation\n",
    "X = np.column_stack((np.ones(m), X))\n",
    "X[:5]"
   ]
  },
  {
   "cell_type": "markdown",
   "metadata": {},
   "source": [
    "## ============ Part 3: Compute Cost and Gradient ============"
   ]
  },
  {
   "cell_type": "markdown",
   "metadata": {},
   "source": [
    "### Activation Function\n",
    "We will use the sigmoid function as our activation function.\n",
    "\n",
    "$g(z) = \\frac{1}{1 + e^{-z}}$\n",
    "\n",
    "When:\n",
    "\n",
    "$z = 0$ then $g = 0.5$\n",
    "\n",
    "$z \\rightarrow +\\infty$ then $g \\rightarrow +1$\n",
    "\n",
    "$z \\rightarrow -\\infty$ then $g \\rightarrow 0$\n"
   ]
  },
  {
   "cell_type": "code",
   "execution_count": 9,
   "metadata": {},
   "outputs": [],
   "source": [
    "def sigmoid(z):\n",
    "    # return np.divide(np.float128(1.0), (np.float128(1.0) + np.exp(-z)), dtype=np.float128)\n",
    "    return 1 / (1 + np.exp(-z))"
   ]
  },
  {
   "cell_type": "code",
   "execution_count": 10,
   "metadata": {},
   "outputs": [
    {
     "name": "stdout",
     "output_type": "stream",
     "text": [
      "0.0066928509242848554\n",
      "0.5\n",
      "0.9933071490757153\n",
      "[0.98201379 0.99330715 0.99752738]\n",
      "[0.26894142 0.5        0.73105858]\n",
      "[[0.98201379 0.99330715 0.99752738]\n",
      " [0.26894142 0.5        0.73105858]]\n"
     ]
    }
   ],
   "source": [
    "print(sigmoid(-5)) # ~= 0.0066929\n",
    "print(sigmoid(0)) # ~= 0.5\n",
    "print(sigmoid(5)) # ~= 0.99331\n",
    "print(sigmoid(np.array([4, 5, 6]))) # ~= [0.98201   0.99331   0.99753]\n",
    "print(sigmoid(np.array([-1, 0, 1]))) # ~= [0.26894 0.50000 0.73106]\n",
    "print(sigmoid(np.array([[4, 5, 6], [-1, 0, 1]])))"
   ]
  },
  {
   "cell_type": "markdown",
   "metadata": {},
   "source": [
    "Add a column of ones to X to facilitate the manipulation.\n",
    "\n",
    "Each row is a input with the following format:\n",
    "\n",
    "$X[0] = [ x_0, x_1, x_2 ]$ where $x_0 = 1$"
   ]
  },
  {
   "cell_type": "markdown",
   "metadata": {},
   "source": [
    "### Hypothesis Function\n",
    "Function that defines our logistic model.\n",
    "\n",
    "Definition:\n",
    "\n",
    "$h_\\theta(x) = g(\\theta_0 + \\theta_1 * x_1 + \\theta_2 * x_2)$\n",
    "\n",
    "Vectorial form:\n",
    "\n",
    "$h_\\theta(x) = g(\\theta^{T} * x)$\n",
    "\n",
    "where:\n",
    "\n",
    "$g$ is the sigmoid function; $x = [x_0, x_1, x_2]$; $x_0 = 1$ and $\\theta = [\\theta_0, \\theta_1, \\theta_2]$"
   ]
  },
  {
   "cell_type": "code",
   "execution_count": 11,
   "metadata": {},
   "outputs": [],
   "source": [
    "def hypothesis(X, theta):\n",
    "    # z = np.array([np.dot(xi, theta) for xi in X])\n",
    "    z = X.dot(theta)\n",
    "    return sigmoid(z)"
   ]
  },
  {
   "cell_type": "markdown",
   "metadata": {},
   "source": [
    "### Logistic Cost Function\n",
    "Computes the logistic cost of using theta as the parameter for logistic regression to fit the data points in X and y.\n",
    "\n",
    "Function cost:\n",
    "\n",
    "$ J(\\theta) = \\frac{1}{m} \\sum_{i=1}^{m} [ -y^{(i)} log(h_\\theta(x^{(i)}) - (1 - y^{(i)}) log(1 - h_\\theta(x^{(i)})) ]$\n",
    "\n",
    "Vectorial form:\n",
    "\n",
    "$ J(\\theta) = \\frac{1}{m} * [-\\vec{y}^{T} \\cdot log(h_\\theta(\\vec{x})) - (1 - \\vec{y})^{T} \\cdot log(1 - h_\\theta(\\vec{x}))] $\n",
    "\n",
    "If any time we got a $log(h_\\theta(x^{(i)})) = 0$ that means we need to normalize the features."
   ]
  },
  {
   "cell_type": "code",
   "execution_count": 12,
   "metadata": {},
   "outputs": [],
   "source": [
    "\"\"\"\n",
    "Inputs:\n",
    "X = [\n",
    "  [ x_0, x_1, ..., x_n ]\n",
    "]\n",
    "y = [\n",
    "  [ y_0 ]\n",
    "  ...\n",
    "  [ y_m ]\n",
    "]\n",
    "theta = [ theta_0, ..., theta_n ]\n",
    "\"\"\"\n",
    "def computeLogisticCostIterative(X, y, theta):\n",
    "    m = len(y)\n",
    "    errorSum = 0 # total error\n",
    "    for i in range(m):\n",
    "        h = hypothesis(X[i], theta)\n",
    "        errorSum = errorSum + (-y[i] * np.log(h) - (1 - y[i]) * np.log(1 - h))\n",
    "    return errorSum / m\n",
    "\n",
    "# Better way using Matrix/Vectors\n",
    "def computeLogisticCostMatrix(X, y, theta):\n",
    "    m = len(y)\n",
    "    h = hypothesis(X, theta)\n",
    "    return (1 / m) * (-y.T.dot(np.log(h)) - (1 - y).T.dot(np.log(1 - h)))"
   ]
  },
  {
   "cell_type": "code",
   "execution_count": 13,
   "metadata": {},
   "outputs": [
    {
     "name": "stdout",
     "output_type": "stream",
     "text": [
      "Testing cost function\n",
      "J ~= 4.6832 -> 4.683166549810689\n",
      "J ~= 4.6832 -> 4.683166549810689\n"
     ]
    }
   ],
   "source": [
    "print('Testing cost function')\n",
    "X_ = np.array([\n",
    "    [1, 8, 1, 6],\n",
    "    [1, 3, 5, 7],\n",
    "    [1, 4, 9, 2]\n",
    "]);\n",
    "y_ = np.array([1, 0, 1]);\n",
    "theta_ = np.array([-2, -1, 1, 2]);\n",
    "print('J ~= 4.6832 ->', computeLogisticCostIterative(X_, y_, theta_))\n",
    "print('J ~= 4.6832 ->', computeLogisticCostMatrix(X_, y_, theta_))"
   ]
  },
  {
   "cell_type": "code",
   "execution_count": 14,
   "metadata": {},
   "outputs": [
    {
     "name": "stdout",
     "output_type": "stream",
     "text": [
      "Cost at initial theta (zeros): %f 0.69314718055994530065\n",
      "Expected cost (approx): 0.693\n"
     ]
    }
   ],
   "source": [
    "# Initialize fitting parameters\n",
    "initial_theta = np.zeros([n + 1])\n",
    "#initial_theta = np.array([0.1, 12.00921659, 11.26284221], dtype=np.float128)\n",
    "cost = computeLogisticCostMatrix(X, y, initial_theta)\n",
    "print('Cost at initial theta (zeros): %f', cost)\n",
    "print('Expected cost (approx): 0.693')"
   ]
  },
  {
   "cell_type": "markdown",
   "metadata": {},
   "source": [
    "### Running Gradient Descent\n",
    "Performs gradient descent to learn $\\theta$ parameters.\n",
    "\n",
    "It return an array with $\\theta$ containing the values found by taking num_iters gradient steps with learning rate alpha.\n",
    "\n",
    "Also it return an array with the history of $J(\\theta)$ to be plotted.\n",
    "\n",
    "Step to update each parameter:\n",
    "\n",
    "$\\theta_j := \\theta_j - \\alpha * \\frac{\\partial J}{\\partial \\theta_j} $\n",
    "\n",
    "Where:\n",
    "\n",
    "$\\frac{\\partial J}{\\partial \\theta_j} = \\frac{1}{m} \\sum_{i=1}^{m} [( h_\\theta(x^{(i)}) - y^{(i)}) * x^{(i)}]$\n",
    "\n",
    "Metrix form:\n",
    "\n",
    "$ \\frac{\\partial J}{\\partial \\theta_j} = \\frac{1}{m} = X^{T} ( h_\\theta(x^{(i)}) - y^{(i)}) $"
   ]
  },
  {
   "cell_type": "code",
   "execution_count": 15,
   "metadata": {},
   "outputs": [],
   "source": [
    "def logisticGradientDescent(X, y, theta, alpha, num_iters):\n",
    "    m = len(y)\n",
    "    J_history = np.zeros(num_iters)\n",
    "    for i in range(num_iters):\n",
    "        h_theta = hypothesis(X, theta)\n",
    "        # gradient of our cost function\n",
    "        nabla = (1 / m) * X.T.dot(h_theta - y)\n",
    "        # print (nabla) # first iteration: [ 0.31722, 0.87232, 1.64812, 2.23787 ]\n",
    "        theta = theta - alpha * nabla\n",
    "\n",
    "        # Save the cost J in every iteration\n",
    "        J_history[i] = computeLogisticCostIterative(X, y, theta)\n",
    "    return theta, J_history"
   ]
  },
  {
   "cell_type": "code",
   "execution_count": 16,
   "metadata": {},
   "outputs": [
    {
     "data": {
      "text/plain": [
       "(array([-2., -1.,  1.,  2.]), array([4.68316655]))"
      ]
     },
     "execution_count": 16,
     "metadata": {},
     "output_type": "execute_result"
    }
   ],
   "source": [
    "# ~= [-2, -1, 1, 2], [4.6832]\n",
    "logisticGradientDescent(X_, y_, theta_, 0, 1)"
   ]
  },
  {
   "cell_type": "code",
   "execution_count": 17,
   "metadata": {},
   "outputs": [],
   "source": [
    "num_iters = 50; # with alpha = 0.01 we should rise the # of iterations\n",
    "alphas = [0.01, 0.03, 0.1, 0.3, 1, 3, 10]\n",
    "colors = ['b', 'r', 'y', 'black', 'brown', 'gray'];"
   ]
  },
  {
   "cell_type": "code",
   "execution_count": 18,
   "metadata": {},
   "outputs": [
    {
     "name": "stdout",
     "output_type": "stream",
     "text": [
      "Running gradient descent ...\n",
      "\n"
     ]
    },
    {
     "data": {
      "text/plain": [
       "<matplotlib.legend.Legend at 0x115c4dac8>"
      ]
     },
     "execution_count": 18,
     "metadata": {},
     "output_type": "execute_result"
    },
    {
     "data": {
      "image/png": "[encoded data removed]",
      "text/plain": [
       "<Figure size 432x288 with 1 Axes>"
      ]
     },
     "metadata": {
      "needs_background": "light"
     },
     "output_type": "display_data"
    }
   ],
   "source": [
    "    # To plot the J(theta) using different alphas\n",
    "    fig, ax = plt.subplots()\n",
    "    iterations = range(num_iters)\n",
    "\n",
    "    print('Running gradient descent ...\\n')\n",
    "    for alpha, color in zip(alphas, colors):\n",
    "        theta = np.zeros([n + 1]) # reset the theta to the current alpha\n",
    "\n",
    "        theta, J_history = logisticGradientDescent(X, y, theta, alpha, num_iters)\n",
    "        # print('alpha ', alpha, ' found theta ', theta)\n",
    "        plt.plot(iterations, J_history, color=color, label='alpha %.2f' % alpha)\n",
    "\n",
    "    plt.legend(loc='best', ncol=2)"
   ]
  },
  {
   "cell_type": "code",
   "execution_count": 19,
   "metadata": {},
   "outputs": [
    {
     "name": "stdout",
     "output_type": "stream",
     "text": [
      "Theta computed from gradient descent:\n",
      "[1.42691898 3.39123191 3.14280162]\n"
     ]
    }
   ],
   "source": [
    "# Display gradient descent's result\n",
    "print('Theta computed from gradient descent:');\n",
    "# Expected ~= [ 1.426919, 3.391232, 3.142802]\n",
    "print(theta);"
   ]
  },
  {
   "cell_type": "code",
   "execution_count": 20,
   "metadata": {},
   "outputs": [
    {
     "name": "stdout",
     "output_type": "stream",
     "text": [
      "For a student with scores 45 and 85, we predict an admission probability of [0.73200061]\n",
      "Expected value: 0.732\n",
      "Train Accuracy:  89.0\n",
      "Expected accuracy (approx): 89.0\n",
      "\n"
     ]
    }
   ],
   "source": [
    "predict = [45, 85]\n",
    "# normalize and add the x_0 = 1\n",
    "predict_norm = np.column_stack((np.ones(1), [((predict - mu) / sigma)]))\n",
    "prob = hypothesis(predict_norm, theta)\n",
    "print('For a student with scores 45 and 85, we predict an admission probability of', prob)\n",
    "print('Expected value: 0.732');\n",
    "\n",
    "# Compute accuracy on our training set\n",
    "p = hypothesis(X, theta)\n",
    "\n",
    "print('Train Accuracy: ', ((p >= 0.5) == y).sum().mean())\n",
    "print('Expected accuracy (approx): 89.0\\n')"
   ]
  },
  {
   "cell_type": "markdown",
   "metadata": {},
   "source": [
    "## ==================== Part 3: Plotting Boundary Decision ===================="
   ]
  },
  {
   "cell_type": "code",
   "execution_count": 21,
   "metadata": {},
   "outputs": [],
   "source": [
    "# Calculate the boundary decision\n",
    "score1_min = x[:,0].min()\n",
    "score1_max = x[:,0].max()\n",
    "score2_min = x[:,1].min()\n",
    "score2_max = x[:,1].max()\n",
    "\n",
    "xgrid = np.arange(score1_min, score1_max, (score1_max - score1_min) / 100)\n",
    "ygrid = np.arange(score2_min, score2_max, (score2_max - score2_min) / 100)\n",
    "\n",
    "X,Y = np.meshgrid(xgrid, ygrid) # grid of points\n",
    "gridPoints = np.c_[X.ravel(), Y.ravel()]\n",
    "\n",
    "predictions = np.zeros(len(gridPoints))\n",
    "for i in range(len(gridPoints)):\n",
    "    point = gridPoints[i]\n",
    "    predict_norm = np.column_stack((np.ones(1), [((point - mu) / sigma)]))\n",
    "    prob = hypothesis(predict_norm, theta)\n",
    "    predictions[i] = 1 if prob >= 0.5 else 0\n",
    "    \n",
    "predictions = predictions.reshape(X.shape)"
   ]
  },
  {
   "cell_type": "code",
   "execution_count": 22,
   "metadata": {},
   "outputs": [
    {
     "data": {
      "text/plain": [
       "<matplotlib.legend.Legend at 0x115d87fd0>"
      ]
     },
     "execution_count": 22,
     "metadata": {},
     "output_type": "execute_result"
    },
    {
     "data": {
      "image/png": "[encoded data removed]",
      "text/plain": [
       "<Figure size 432x288 with 1 Axes>"
      ]
     },
     "metadata": {
      "needs_background": "light"
     },
     "output_type": "display_data"
    }
   ],
   "source": [
    "fig, ax = plt.subplots()\n",
    "# setup plot for decision boundary (0 = Refused, 1 = Admitted)\n",
    "plt.contourf(X, Y, predictions, alpha=0.3)\n",
    "sns.scatterplot('score1', 'score2', hue='admitted', style='admitted', style_order=[1,0], data=data)\n",
    "plt.legend()\n",
    "# plt.show()"
   ]
  },
  {
   "cell_type": "code",
   "execution_count": null,
   "metadata": {},
   "outputs": [],
   "source": []
  }
 ],
 "metadata": {
  "kernelspec": {
   "display_name": "Python 3",
   "language": "python",
   "name": "python3"
  },
  "language_info": {
   "codemirror_mode": {
    "name": "ipython",
    "version": 3
   },
   "file_extension": ".py",
   "mimetype": "text/x-python",
   "name": "python",
   "nbconvert_exporter": "python",
   "pygments_lexer": "ipython3",
   "version": "3.7.0"
  }
 },
 "nbformat": 4,
 "nbformat_minor": 2
}
